{
 "cells": [
  {
   "cell_type": "code",
   "execution_count": 1,
   "metadata": {},
   "outputs": [],
   "source": [
    "'''\n",
    "This script is used for running IPs through 2 APIs found during a Brute force attack and pulling out the usernames used, then generating an output Excel\n",
    "file with the results.  \n",
    "\n",
    "Required Modules that may need to be installed: pandas, extract_msg\n",
    "Required Files: evidence.txt\n",
    "\n",
    "Requirements:\n",
    "1) In the event the log filename is different from what is listed in the next line, \n",
    "update the filename in the script or change the filename to match.\n",
    "\n",
    "2) The logfile(s) needs to be in the same directory as the script unless an absolute path is provided.\n",
    "\n",
    "No error checking has been included in this file. Its a rushed script\n",
    "\n",
    "Script Author: larl0ch\n",
    "'''\n",
    "\n",
    "import re\n",
    "import pandas as pd\n",
    "import urllib.request as urllib3\n",
    "import json\n",
    "import time\n",
    "from datetime import date\n",
    "import glob\n",
    "import extract_msg"
   ]
  },
  {
   "cell_type": "code",
   "execution_count": 3,
   "metadata": {},
   "outputs": [],
   "source": [
    "'''Function for creating evidence from .msg files'''\n",
    "def gather_evidence():\n",
    "    result = []\n",
    "    \n",
    "    #Path to .MSG\n",
    "    f = glob.glob(r'SecurityLogs\\*.msg')\n",
    "    \n",
    "    for filename in f:\n",
    "        msg = extract_msg.Message(filename)\n",
    "        result.append(msg.body)\n",
    "\n",
    "    file_object = open('evidence.txt', 'a')\n",
    "    for item in result:\n",
    "        file_object.write(item)\n",
    "    file_object.close()\n",
    "\n",
    "    return len(result)"
   ]
  },
  {
   "cell_type": "code",
   "execution_count": 5,
   "metadata": {},
   "outputs": [],
   "source": [
    "'''Opening the log file, and scaning the data'''\n",
    "#Location of the log file is in the next line.  Default is 'evidence.txt'\n",
    "total_logs_searched = gather_evidence()\n",
    "with open ('evidence.txt') as info:\n",
    "    lines = info.read().splitlines()"
   ]
  },
  {
   "cell_type": "code",
   "execution_count": 6,
   "metadata": {},
   "outputs": [],
   "source": [
    "'''Variables used for this script'''\n",
    "#Regex patterns to find IP addresses and Usernames. NOTE: Does NOT verify valid IP address.\n",
    "ipmatch = r'\\b\\d{1,3}\\.\\d{1,3}\\.\\d{1,3}\\.\\d{1,3}\\b'\n",
    "#Username pattern needs to be edited to fit the log file's format\n",
    "usermatch = r'(?<=user )(.*)(?= from)'\n",
    "\n",
    "#Variables\n",
    "unique_ips = []\n",
    "unique_users = []\n",
    "date = current_date = date.today()"
   ]
  },
  {
   "cell_type": "code",
   "execution_count": 7,
   "metadata": {},
   "outputs": [],
   "source": [
    "'''Pulls IP addresses from evidence.txt file, removing duplicates, adding to unique_ip list'''\n",
    "for i in range(len(lines)):\n",
    "    x = re.findall(usermatch, lines[i]) #Running regex user pattern for matches\n",
    "    y = re.findall(ipmatch, lines[i])   #Running regex IP pattern for matches\n",
    "    if y:\n",
    "        if y[0] not in unique_ips:      #Taking unique matches only\n",
    "            unique_ips.append(y[0])\n",
    "    if x:\n",
    "        if x[0] not in unique_users:    #Taking unique matches only\n",
    "            unique_users.append(x[0])"
   ]
  },
  {
   "cell_type": "code",
   "execution_count": 8,
   "metadata": {},
   "outputs": [],
   "source": [
    "'''Function for scanning each IP with https://www.ipqualityscore.com/ and IPWHOIS.APP API'''\n",
    "def ip_check_scan(unique_ips):\n",
    "    num = 1\n",
    "    counts = [11, 22, 33, 44, 55, 66, 77, 88, 99]\n",
    "    qual_check_results = []\n",
    "    whois_results = []\n",
    "    #Enter API Key here\n",
    "    apiKey = ''\n",
    "    \n",
    "    for ip in unique_ips:\n",
    "        count = len(unique_ips) - num\n",
    "        print(f\"Checking on {ip}... {count} IP's remaining\")\n",
    "        qual_check_response = urllib3.urlopen(f\"https://ipqualityscore.com/api/json/ip/{apiKey}/{ip}?strictness=1&lighter_penalties=true\")\n",
    "        whois_response = urllib3.urlopen(f\"https://ipwhois.app/json/{ip}?objects=ip,continent,continent_code,country,country_code,isp,org,timezone_name,message\")\n",
    "        qual_check_info = json.load(qual_check_response)\n",
    "        qual_check_results.append(qual_check_info)\n",
    "        whois_ip_info = json.load(whois_response)\n",
    "        whois_results.append(whois_ip_info)\n",
    "        num += 1\n",
    "        if num in counts:\n",
    "            time.sleep(2)\n",
    "    \n",
    "    return(qual_check_results, whois_results)  \n",
    "    "
   ]
  },
  {
   "cell_type": "code",
   "execution_count": null,
   "metadata": {},
   "outputs": [],
   "source": [
    "'''Running ip_check_scan function, and retrieving results'''\n",
    "#running the checks via API\n",
    "ip_check_results = ip_check_scan(unique_ips)\n",
    "\n",
    "#retrieving results\n",
    "qual_check_results = ip_check_results[0]\n",
    "whois_results = ip_check_results[1]"
   ]
  },
  {
   "cell_type": "code",
   "execution_count": 11,
   "metadata": {},
   "outputs": [],
   "source": [
    "'''Generating DataFrames, writer, and xlsx file with separate sheets.'''\n",
    "#DataFrames\n",
    "df = pd.DataFrame.from_dict(qual_check_results)\n",
    "df1 = pd.DataFrame.from_dict(whois_results)\n",
    "df2 = pd.DataFrame(unique_users)\n",
    "#df3 = pd.DataFrame(total_logs_searched)\n",
    "\n",
    "#Writer\n",
    "output_filename = str(date) + \"-evidence_results.xlsx\"\n",
    "writer = pd.ExcelWriter(output_filename)\n",
    "\n",
    "#Write data to sheets\n",
    "df.to_excel(writer, \"IP Quality Check results\", index=False)\n",
    "df1.to_excel(writer, \"IP WHOIS results\", index=False)\n",
    "df2.to_excel(writer, 'Usernames used in attack', index=False)\n",
    "#df3.to_excel(writer, 'Total logs searched')\n",
    "#Saving file\n",
    "writer.save()\n",
    "\n"
   ]
  },
  {
   "cell_type": "code",
   "execution_count": null,
   "metadata": {},
   "outputs": [],
   "source": [
    "#print(len(total_logs_searched))\n",
    "print(len(whois_results))\n",
    "print(len(qual_check_results))"
   ]
  },
  {
   "cell_type": "code",
   "execution_count": null,
   "metadata": {},
   "outputs": [],
   "source": []
  }
 ],
 "metadata": {
  "interpreter": {
   "hash": "69aea9cf7e4b88c717433ba74a86ccb400db88c8af53527c1984c74992e872bf"
  },
  "kernelspec": {
   "display_name": "Python 3.9.0 64-bit",
   "name": "python3"
  },
  "language_info": {
   "codemirror_mode": {
    "name": "ipython",
    "version": 3
   },
   "file_extension": ".py",
   "mimetype": "text/x-python",
   "name": "python",
   "nbconvert_exporter": "python",
   "pygments_lexer": "ipython3",
   "version": "3.9.0"
  },
  "orig_nbformat": 4
 },
 "nbformat": 4,
 "nbformat_minor": 2
}
